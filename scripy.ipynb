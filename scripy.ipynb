{
 "cells": [
  {
   "cell_type": "code",
   "execution_count": 1,
   "metadata": {},
   "outputs": [],
   "source": [
    "import pandas as pd\n",
    "import matplotlib.pyplot as plt"
   ]
  },
  {
   "cell_type": "code",
   "execution_count": 2,
   "metadata": {},
   "outputs": [],
   "source": [
    "df = pd.read_csv(\"bank-additional/bank-additional-full.csv\", header=0, delimiter=\";\")"
   ]
  },
  {
   "cell_type": "code",
   "execution_count": 3,
   "metadata": {},
   "outputs": [
    {
     "name": "stdout",
     "output_type": "stream",
     "text": [
      "<class 'pandas.core.frame.DataFrame'>\n",
      "RangeIndex: 41188 entries, 0 to 41187\n",
      "Data columns (total 21 columns):\n",
      " #   Column          Non-Null Count  Dtype  \n",
      "---  ------          --------------  -----  \n",
      " 0   age             41188 non-null  int64  \n",
      " 1   job             41188 non-null  object \n",
      " 2   marital         41188 non-null  object \n",
      " 3   education       41188 non-null  object \n",
      " 4   default         41188 non-null  object \n",
      " 5   housing         41188 non-null  object \n",
      " 6   loan            41188 non-null  object \n",
      " 7   contact         41188 non-null  object \n",
      " 8   month           41188 non-null  object \n",
      " 9   day_of_week     41188 non-null  object \n",
      " 10  duration        41188 non-null  int64  \n",
      " 11  campaign        41188 non-null  int64  \n",
      " 12  pdays           41188 non-null  int64  \n",
      " 13  previous        41188 non-null  int64  \n",
      " 14  poutcome        41188 non-null  object \n",
      " 15  emp.var.rate    41188 non-null  float64\n",
      " 16  cons.price.idx  41188 non-null  float64\n",
      " 17  cons.conf.idx   41188 non-null  float64\n",
      " 18  euribor3m       41188 non-null  float64\n",
      " 19  nr.employed     41188 non-null  float64\n",
      " 20  y               41188 non-null  object \n",
      "dtypes: float64(5), int64(5), object(11)\n",
      "memory usage: 6.6+ MB\n"
     ]
    }
   ],
   "source": [
    "df.info()"
   ]
  },
  {
   "cell_type": "code",
   "execution_count": 4,
   "metadata": {},
   "outputs": [
    {
     "data": {
      "text/plain": [
       "default\n",
       "no         32588\n",
       "unknown     8597\n",
       "yes            3\n",
       "Name: count, dtype: int64"
      ]
     },
     "execution_count": 4,
     "metadata": {},
     "output_type": "execute_result"
    }
   ],
   "source": [
    "df.default.value_counts()"
   ]
  },
  {
   "cell_type": "markdown",
   "metadata": {},
   "source": [
    "column \"default\" is extremely unbalanced therefore can be excluded from dataset"
   ]
  },
  {
   "cell_type": "code",
   "execution_count": 5,
   "metadata": {},
   "outputs": [],
   "source": [
    "import pandas as pd\n",
    "def clean_data(df : pd.DataFrame) -> pd.DataFrame:\n",
    "    df_cleaned = df.drop(\"default\", axis=1)\n",
    "    df_cleaned['y'] = df_cleaned['y'].map({'yes': 1, 'no': 0})\n",
    "    return df_cleaned\n"
   ]
  },
  {
   "cell_type": "markdown",
   "metadata": {},
   "source": [
    "## Data Preprocessing"
   ]
  },
  {
   "cell_type": "markdown",
   "metadata": {},
   "source": [
    "### Encoding Categorical Data"
   ]
  },
  {
   "cell_type": "code",
   "execution_count": 6,
   "metadata": {},
   "outputs": [],
   "source": [
    "import pandas as pd\n",
    "def preprocess_data(data : pd.DataFrame) -> pd.DataFrame:\n",
    "    dummies_contact = pd.get_dummies(data['contact'], prefix='contact', drop_first=True)\n",
    "\n",
    "    dummies_house = pd.get_dummies(data['housing'], prefix='housing')\n",
    "    dummies_house = dummies_house.drop('housing_unknown', axis=1)\n",
    "\n",
    "    dummies_loan = pd.get_dummies(data['loan'], prefix='loan')\n",
    "    dummies_loan  = dummies_loan.drop('loan_unknown', axis=1)\n",
    "\n",
    "\n",
    "    dummies_marital = pd.get_dummies(data['marital'], prefix='marital')\n",
    "    dummies_marital  = dummies_marital.drop('marital_unknown', axis=1)\n",
    "\n",
    "    dummies_education = pd.get_dummies(data['education'], prefix='education')\n",
    "    dummies_education  = dummies_education.drop('education_unknown', axis=1)\n",
    "\n",
    "    dummies_job = pd.get_dummies(data['job'], prefix='job')\n",
    "    dummies_job  = dummies_job.drop('job_unknown', axis=1)\n",
    "\n",
    "\n",
    "    dummies_poutcome = pd.get_dummies(data['poutcome'], prefix='poutcome')\n",
    "    dummies_poutcome  = dummies_poutcome.drop('poutcome_nonexistent', axis=1)\n",
    "\n",
    "\n",
    "    df_encoded = pd.concat([\n",
    "        data,\n",
    "        dummies_contact,\n",
    "        dummies_house,\n",
    "        dummies_loan,\n",
    "        dummies_marital,\n",
    "        dummies_education,\n",
    "        dummies_job,\n",
    "        dummies_poutcome\n",
    "    ], axis=1).drop([\n",
    "        'contact',\n",
    "        'housing',\n",
    "        'loan',\n",
    "        'marital', \n",
    "        'education', \n",
    "        'job', \n",
    "        'poutcome', \n",
    "        'month',\n",
    "        'day_of_week'\n",
    "    ], axis=1)\n",
    "\n",
    "    # dummies_month = pd.get_dummies(data['month'], prefix='month', drop_first=True)\n",
    "    # dummies_day_of_week = pd.get_dummies(data['day_of_week'], prefix='day_of_week', drop_first=True)\n",
    "\n",
    "    # df_cleaned_date = pd.concat([\n",
    "    #     df_cleaned,\n",
    "    #     dummies_month,\n",
    "    #     dummies_day_of_week\n",
    "    # ])\n",
    "\n",
    "    return df_encoded"
   ]
  },
  {
   "cell_type": "markdown",
   "metadata": {},
   "source": [
    "### Data Scaling"
   ]
  },
  {
   "cell_type": "code",
   "execution_count": 7,
   "metadata": {},
   "outputs": [],
   "source": [
    "from sklearn.model_selection import train_test_split\n",
    "\n",
    "clean = clean_data(df)\n",
    "df_encoded = preprocess_data(clean)\n",
    "\n",
    "X_train, X_val, y_train, y_val = train_test_split(df_encoded.drop('y', axis=1), df_encoded['y'], test_size=0.2, random_state=42)\n"
   ]
  },
  {
   "cell_type": "code",
   "execution_count": 8,
   "metadata": {},
   "outputs": [],
   "source": [
    "from sklearn.preprocessing import StandardScaler\n",
    "scaler = StandardScaler()\n",
    "X_train_scaled = scaler.fit_transform(X_train)\n",
    "\n",
    "X_val_scaled = scaler.transform(X_val)"
   ]
  },
  {
   "cell_type": "markdown",
   "metadata": {},
   "source": [
    "## Logistic Regression"
   ]
  },
  {
   "cell_type": "code",
   "execution_count": 9,
   "metadata": {},
   "outputs": [],
   "source": [
    "from sklearn.linear_model import LogisticRegression\n",
    "\n",
    "model = LogisticRegression()\n",
    "\n",
    "model.fit(X_train_scaled, y_train)\n",
    "\n",
    "y_pred = model.predict(X_val_scaled)"
   ]
  },
  {
   "cell_type": "markdown",
   "metadata": {},
   "source": [
    "### Logistic Regression Metrics"
   ]
  },
  {
   "cell_type": "code",
   "execution_count": 10,
   "metadata": {},
   "outputs": [
    {
     "name": "stdout",
     "output_type": "stream",
     "text": [
      "0.9093226511289147\n"
     ]
    }
   ],
   "source": [
    "from sklearn.metrics import accuracy_score\n",
    "\n",
    "accuracy_score_val = accuracy_score(y_val, y_pred)\n",
    "\n",
    "print(accuracy_score_val)"
   ]
  },
  {
   "cell_type": "code",
   "execution_count": 12,
   "metadata": {},
   "outputs": [
    {
     "name": "stdout",
     "output_type": "stream",
     "text": [
      "0.9106535884238127\n"
     ]
    }
   ],
   "source": [
    "\n",
    "df_test = pd.read_csv('bank-additional/bank-additional.csv', delimiter=\";\")\n",
    "clean_test = clean_data(df_test)\n",
    "df_encoded_test = preprocess_data(clean)\n",
    "X_test_scaled = scaler.transform(df_encoded_test.drop('y', axis=1))\n",
    "\n",
    "y_pred = model.predict(X_test_scaled)\n",
    "\n",
    "accuracy_score_test = accuracy_score(df_encoded_test['y'], y_pred)\n",
    "\n",
    "\n",
    "print(accuracy_score_test)"
   ]
  },
  {
   "cell_type": "code",
   "execution_count": null,
   "metadata": {},
   "outputs": [],
   "source": []
  }
 ],
 "metadata": {
  "kernelspec": {
   "display_name": "Python 3",
   "language": "python",
   "name": "python3"
  },
  "language_info": {
   "codemirror_mode": {
    "name": "ipython",
    "version": 3
   },
   "file_extension": ".py",
   "mimetype": "text/x-python",
   "name": "python",
   "nbconvert_exporter": "python",
   "pygments_lexer": "ipython3",
   "version": "3.12.5"
  }
 },
 "nbformat": 4,
 "nbformat_minor": 2
}
